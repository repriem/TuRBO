{
 "cells": [
  {
   "cell_type": "markdown",
   "metadata": {},
   "source": [
    "# This tutorial describes how to use the Trust Region Bayesian Optimization algorithm, which is implemented in python.\n",
    "\n",
    "Nina MOELLO ONERA/DTIS/M2CI - May 2020"
   ]
  },
  {
   "cell_type": "markdown",
   "metadata": {},
   "source": [
    "<p class=\"alert alert-success\" style=\"padding:1em\">\n",
    "To use TuRBO, please follow this link : https://github.com/uber-research/TuRBO. \n",
    "</p>\n",
    "\n",
    "The reference paper is available \n",
    "here http://papers.nips.cc/paper/8788-scalable-global-optimization-via-local-bayesian-optimization "
   ]
  },
  {
   "cell_type": "raw",
   "metadata": {},
   "source": [
    "@inproceedings{eriksson2019scalable,\n",
    "  title = {Scalable Global Optimization via Local {Bayesian} Optimization},\n",
    "  author = {Eriksson, David and Pearce, Michael and Gardner, Jacob and Turner, Ryan D and Poloczek, Matthias},\n",
    "  booktitle = {Advances in Neural Information Processing Systems},\n",
    "  pages = {5496--5507},\n",
    "  year = {2019},\n",
    "  url = {http://papers.nips.cc/paper/8788-scalable-global-optimization-via-local-bayesian-optimization.pdf},\n",
    "}"
   ]
  },
  {
   "cell_type": "markdown",
   "metadata": {},
   "source": [
    "This is the code-release for the TuRBO algorithm from Scalable Global Optimization via Local Bayesian Optimization appearing in NeurIPS 2019. This is an implementation for the noise-free case and may not work well if observations are noisy as the center of the trust region should be chosen based on the posterior mean in this case.\n",
    "\n",
    "Note that TuRBO is a minimization algorithm, so please make sure you reformulate potential maximization problems.\n",
    "\n",
    "TuRBO is cutting the space into trust regions and does independant local optimizations over these regions. Thus, turbo_1 does optimization over all the space (1 trust region) and turbo_m does it with m trust regions. \n",
    "This tutorial explain how to use turbo_m.py.\n",
    "\n",
    "\n",
    "## Installing the requirements\n",
    "\n",
    "The codes are written in python 3.6, so it is recommended to use this version of python to run the scripts. To install the requirements one can simply use this line:"
   ]
  },
  {
   "cell_type": "raw",
   "metadata": {},
   "source": [
    "pip3 install -r requirements.txt"
   ]
  },
  {
   "cell_type": "markdown",
   "metadata": {},
   "source": [
    "The present code is available on Mac and Linux. For a Windows use, it needs compilation of other packages that are not precised in this notebook. \n",
    "\n",
    "Also, some test functions presented here depend on the smt package (https://github.com/SMTorg/smt) and the segolight package (on the ONERA SVN)."
   ]
  },
  {
   "cell_type": "code",
   "execution_count": 1,
   "metadata": {},
   "outputs": [],
   "source": [
    "import math\n",
    "import sys\n",
    "from copy import deepcopy\n",
    "\n",
    "import gpytorch\n",
    "import numpy as np\n",
    "import torch\n",
    "\n",
    "from turbo.utils import from_unit_cube, latin_hypercube, to_unit_cube\n",
    "from turbo.turbo_m import TurboM"
   ]
  },
  {
   "cell_type": "markdown",
   "metadata": {},
   "source": [
    "## Set up an optimization problem class"
   ]
  },
  {
   "cell_type": "markdown",
   "metadata": {},
   "source": [
    "### From analytical expression"
   ]
  },
  {
   "cell_type": "code",
   "execution_count": 2,
   "metadata": {},
   "outputs": [],
   "source": [
    "class Levy:\n",
    "    def __init__(self, dim=10):\n",
    "        self.dim = dim\n",
    "        self.lb = -5 * np.ones(dim)\n",
    "        self.ub = 10 * np.ones(dim)\n",
    "        \n",
    "    def __call__(self, x):\n",
    "        assert len(x) == self.dim\n",
    "        assert x.ndim == 1\n",
    "        assert np.all(x <= self.ub) and np.all(x >= self.lb)\n",
    "        w = 1 + (x - 1.0) / 4.0\n",
    "        val = np.sin(np.pi * w[0]) ** 2 + \\\n",
    "            np.sum((w[1:self.dim - 1] - 1) ** 2 * (1 + 10 * np.sin(np.pi * w[1:self.dim - 1] + 1) ** 2)) + \\\n",
    "            (w[self.dim - 1] - 1) ** 2 * (1 + np.sin(2 * np.pi * w[self.dim - 1])**2)\n",
    "        return val"
   ]
  },
  {
   "cell_type": "markdown",
   "metadata": {},
   "source": [
    "### From segolight"
   ]
  },
  {
   "cell_type": "code",
   "execution_count": 3,
   "metadata": {},
   "outputs": [],
   "source": [
    "from sego.cases.high_mod_branin_prob import get_case as get_case_branin\n",
    "from sego.cases.rover_60_prob import get_case as get_case_rov\n",
    "\n",
    "class Branin:\n",
    "    def __init__(self, dim=10): #dim 10, 20 or 100\n",
    "        self.dim=dim\n",
    "        self.lb=-1.0 * np.ones(dim)\n",
    "        self.ub=1.0 * np.ones(dim)\n",
    "        \n",
    "    def __call__(self,x):\n",
    "        assert len(x) == self.dim\n",
    "        assert x.ndim == 1   \n",
    "        assert np.all(x <= self.ub) and np.all(x >= self.lb)\n",
    "        return  get_case_branin(self.dim)['f_obj'](x)[0]\n",
    "    \n",
    "class Rover:\n",
    "    def __init__(self,dim=60):\n",
    "        self.dim=dim\n",
    "        self.lb=-1.0 * np.ones(dim)\n",
    "        self.ub=1.0 * np.ones(dim)\n",
    "        \n",
    "    def __call__(self,x):\n",
    "        assert len(x) == self.dim\n",
    "        assert x.ndim == 1   \n",
    "        assert np.all(x <= self.ub) and np.all(x >= self.lb)\n",
    "        case_rov = get_case_rov()\n",
    "        return case_rov['f_obj'](x)[0]  "
   ]
  },
  {
   "cell_type": "markdown",
   "metadata": {},
   "source": [
    "## Create a TuRBO optimizer instance"
   ]
  },
  {
   "cell_type": "code",
   "execution_count": 4,
   "metadata": {},
   "outputs": [
    {
     "name": "stdout",
     "output_type": "stream",
     "text": [
      "Using dtype = torch.float64 \n",
      "Using device = cpu\n"
     ]
    }
   ],
   "source": [
    "fun = Levy(10)\n",
    "\n",
    "turbo_m = TurboM(\n",
    "    f=fun,  # Handle to objective function\n",
    "    lb=fun.lb,  # Numpy array specifying lower bounds\n",
    "    ub=fun.ub,  # Numpy array specifying upper bounds\n",
    "    n_init=10,  # Number of initial bounds from an Symmetric Latin hypercube design\n",
    "    max_evals=500,  # Maximum number of evaluations\n",
    "    n_trust_regions=5,  # Number of trust regions\n",
    "    batch_size=1,  # How large batch size TuRBO uses\n",
    "    verbose=True,  # Print information from each batch\n",
    "    use_ard=True,  # Set to true if you want to use ARD for the GP kernel\n",
    "    max_cholesky_size=2000,  # When we switch from Cholesky to Lanczos\n",
    "    n_training_steps=50,  # Number of steps of ADAM to learn the hypers\n",
    "    min_cuda=1024,  # Run on the CPU for small datasets\n",
    "    device=\"cpu\",  # \"cpu\" or \"cuda\"\n",
    "    dtype=\"float64\",  # float64 or float32\n",
    ")"
   ]
  },
  {
   "cell_type": "markdown",
   "metadata": {},
   "source": [
    "## Run the optimization process"
   ]
  },
  {
   "cell_type": "code",
   "execution_count": 5,
   "metadata": {},
   "outputs": [
    {
     "name": "stdout",
     "output_type": "stream",
     "text": [
      "TR-0 starting from: 19.18\n",
      "TR-1 starting from: 22.19\n",
      "TR-2 starting from: 25.2\n",
      "TR-3 starting from: 16.56\n",
      "TR-4 starting from: 24.06\n",
      "89) New best @ TR-4: 11.09\n",
      "131) New best @ TR-4: 9.511\n",
      "198) New best @ TR-4: 6.386\n"
     ]
    }
   ],
   "source": [
    "turbo_m.optimize()"
   ]
  },
  {
   "cell_type": "markdown",
   "metadata": {},
   "source": [
    "## Extract all evaluations from TuRBO and print the best"
   ]
  },
  {
   "cell_type": "code",
   "execution_count": 6,
   "metadata": {},
   "outputs": [
    {
     "name": "stdout",
     "output_type": "stream",
     "text": [
      "Best value found:\n",
      "\tf(x) = 6.386\n",
      "Observed at:\n",
      "\tx = [ 0.601  0.56   1.38   3.967  3.977  0.919  3.107 -0.006 -3.781  2.356]\n"
     ]
    }
   ],
   "source": [
    "X = turbo_m.X  # Evaluated points\n",
    "fX = turbo_m.fX  # Observed values\n",
    "ind_best = np.argmin(fX)\n",
    "f_best, x_best = fX[ind_best], X[ind_best, :]\n",
    "\n",
    "print(\"Best value found:\\n\\tf(x) = %.3f\\nObserved at:\\n\\tx = %s\" % (f_best, np.around(x_best, 3)))"
   ]
  },
  {
   "cell_type": "markdown",
   "metadata": {},
   "source": [
    "## Plot the result\n",
    "\n",
    "TuRBO-5 converges to a solution close to the global optimum"
   ]
  },
  {
   "cell_type": "code",
   "execution_count": 7,
   "metadata": {},
   "outputs": [
    {
     "data": {
      "image/png": "[encoded data removed]",
      "text/plain": [
       "<Figure size 504x360 with 1 Axes>"
      ]
     },
     "metadata": {
      "needs_background": "light"
     },
     "output_type": "display_data"
    }
   ],
   "source": [
    "import matplotlib\n",
    "import matplotlib.pyplot as plt\n",
    "\n",
    "fig = plt.figure(figsize=(7, 5))\n",
    "matplotlib.rcParams.update({'font.size': 16})\n",
    "plt.plot(fX, 'b.', ms=10)  # Plot all evaluated points as blue dots\n",
    "plt.plot(np.minimum.accumulate(fX), 'r', lw=3)  # Plot cumulative minimum as a red line\n",
    "plt.xlim([0, len(fX)])\n",
    "plt.ylim([0, 30])\n",
    "plt.xlabel('Number of iterations')\n",
    "plt.ylabel('Result')\n",
    "plt.title(\"10D Levy function\")\n",
    "plt.tight_layout()\n",
    "plt.show() "
   ]
  },
  {
   "cell_type": "code",
   "execution_count": null,
   "metadata": {},
   "outputs": [],
   "source": []
  }
 ],
 "metadata": {
  "kernelspec": {
   "display_name": "Python 3",
   "language": "python",
   "name": "python3"
  },
  "language_info": {
   "codemirror_mode": {
    "name": "ipython",
    "version": 3
   },
   "file_extension": ".py",
   "mimetype": "text/x-python",
   "name": "python",
   "nbconvert_exporter": "python",
   "pygments_lexer": "ipython3",
   "version": "3.8.3"
  }
 },
 "nbformat": 4,
 "nbformat_minor": 4
}
